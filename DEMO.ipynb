{
  "nbformat": 4,
  "nbformat_minor": 0,
  "metadata": {
    "kernelspec": {
      "display_name": "Python 3",
      "language": "python",
      "name": "python3"
    },
    "language_info": {
      "codemirror_mode": {
        "name": "ipython",
        "version": 3
      },
      "file_extension": ".py",
      "mimetype": "text/x-python",
      "name": "python",
      "nbconvert_exporter": "python",
      "pygments_lexer": "ipython3",
      "version": "3.6.5"
    },
    "colab": {
      "name": "DEMO.ipynb",
      "provenance": [],
      "toc_visible": true,
      "include_colab_link": true
    },
    "widgets": {
      "application/vnd.jupyter.widget-state+json": {
        "c04397b939074fbfb6197ac6ba427af1": {
          "model_module": "@jupyter-widgets/controls",
          "model_name": "HBoxModel",
          "state": {
            "_view_name": "HBoxView",
            "_dom_classes": [],
            "_model_name": "HBoxModel",
            "_view_module": "@jupyter-widgets/controls",
            "_model_module_version": "1.5.0",
            "_view_count": null,
            "_view_module_version": "1.5.0",
            "box_style": "",
            "layout": "IPY_MODEL_a130560463a84b52b65cd05bbd172dab",
            "_model_module": "@jupyter-widgets/controls",
            "children": [
              "IPY_MODEL_d43f53a14a9a4a949f33ca1ecaaf4028",
              "IPY_MODEL_d3aab95bca72481ea64e32b6c9e1e910"
            ]
          }
        },
        "a130560463a84b52b65cd05bbd172dab": {
          "model_module": "@jupyter-widgets/base",
          "model_name": "LayoutModel",
          "state": {
            "_view_name": "LayoutView",
            "grid_template_rows": null,
            "right": null,
            "justify_content": null,
            "_view_module": "@jupyter-widgets/base",
            "overflow": null,
            "_model_module_version": "1.2.0",
            "_view_count": null,
            "flex_flow": null,
            "width": null,
            "min_width": null,
            "border": null,
            "align_items": null,
            "bottom": null,
            "_model_module": "@jupyter-widgets/base",
            "top": null,
            "grid_column": null,
            "overflow_y": null,
            "overflow_x": null,
            "grid_auto_flow": null,
            "grid_area": null,
            "grid_template_columns": null,
            "flex": null,
            "_model_name": "LayoutModel",
            "justify_items": null,
            "grid_row": null,
            "max_height": null,
            "align_content": null,
            "visibility": null,
            "align_self": null,
            "height": null,
            "min_height": null,
            "padding": null,
            "grid_auto_rows": null,
            "grid_gap": null,
            "max_width": null,
            "order": null,
            "_view_module_version": "1.2.0",
            "grid_template_areas": null,
            "object_position": null,
            "object_fit": null,
            "grid_auto_columns": null,
            "margin": null,
            "display": null,
            "left": null
          }
        },
        "d43f53a14a9a4a949f33ca1ecaaf4028": {
          "model_module": "@jupyter-widgets/controls",
          "model_name": "IntProgressModel",
          "state": {
            "_view_name": "ProgressView",
            "style": "IPY_MODEL_6553bcc44cb14b1b9ba6cd453ccd13f0",
            "_dom_classes": [],
            "description": "all: 100%",
            "_model_name": "IntProgressModel",
            "bar_style": "success",
            "max": 3,
            "_view_module": "@jupyter-widgets/controls",
            "_model_module_version": "1.5.0",
            "value": 3,
            "_view_count": null,
            "_view_module_version": "1.5.0",
            "orientation": "horizontal",
            "min": 0,
            "description_tooltip": null,
            "_model_module": "@jupyter-widgets/controls",
            "layout": "IPY_MODEL_22d0c3af5b974589a14910bc5729aa6b"
          }
        },
        "d3aab95bca72481ea64e32b6c9e1e910": {
          "model_module": "@jupyter-widgets/controls",
          "model_name": "HTMLModel",
          "state": {
            "_view_name": "HTMLView",
            "style": "IPY_MODEL_b26eddd52f324acdb25649ddb378469c",
            "_dom_classes": [],
            "description": "",
            "_model_name": "HTMLModel",
            "placeholder": "​",
            "_view_module": "@jupyter-widgets/controls",
            "_model_module_version": "1.5.0",
            "value": " 3/3 [00:00&lt;00:00, 36.16it/s]",
            "_view_count": null,
            "_view_module_version": "1.5.0",
            "description_tooltip": null,
            "_model_module": "@jupyter-widgets/controls",
            "layout": "IPY_MODEL_e56e7433dc5541a7b12841e7ea1c7164"
          }
        },
        "6553bcc44cb14b1b9ba6cd453ccd13f0": {
          "model_module": "@jupyter-widgets/controls",
          "model_name": "ProgressStyleModel",
          "state": {
            "_view_name": "StyleView",
            "_model_name": "ProgressStyleModel",
            "description_width": "initial",
            "_view_module": "@jupyter-widgets/base",
            "_model_module_version": "1.5.0",
            "_view_count": null,
            "_view_module_version": "1.2.0",
            "bar_color": null,
            "_model_module": "@jupyter-widgets/controls"
          }
        },
        "22d0c3af5b974589a14910bc5729aa6b": {
          "model_module": "@jupyter-widgets/base",
          "model_name": "LayoutModel",
          "state": {
            "_view_name": "LayoutView",
            "grid_template_rows": null,
            "right": null,
            "justify_content": null,
            "_view_module": "@jupyter-widgets/base",
            "overflow": null,
            "_model_module_version": "1.2.0",
            "_view_count": null,
            "flex_flow": null,
            "width": null,
            "min_width": null,
            "border": null,
            "align_items": null,
            "bottom": null,
            "_model_module": "@jupyter-widgets/base",
            "top": null,
            "grid_column": null,
            "overflow_y": null,
            "overflow_x": null,
            "grid_auto_flow": null,
            "grid_area": null,
            "grid_template_columns": null,
            "flex": null,
            "_model_name": "LayoutModel",
            "justify_items": null,
            "grid_row": null,
            "max_height": null,
            "align_content": null,
            "visibility": null,
            "align_self": null,
            "height": null,
            "min_height": null,
            "padding": null,
            "grid_auto_rows": null,
            "grid_gap": null,
            "max_width": null,
            "order": null,
            "_view_module_version": "1.2.0",
            "grid_template_areas": null,
            "object_position": null,
            "object_fit": null,
            "grid_auto_columns": null,
            "margin": null,
            "display": null,
            "left": null
          }
        },
        "b26eddd52f324acdb25649ddb378469c": {
          "model_module": "@jupyter-widgets/controls",
          "model_name": "DescriptionStyleModel",
          "state": {
            "_view_name": "StyleView",
            "_model_name": "DescriptionStyleModel",
            "description_width": "",
            "_view_module": "@jupyter-widgets/base",
            "_model_module_version": "1.5.0",
            "_view_count": null,
            "_view_module_version": "1.2.0",
            "_model_module": "@jupyter-widgets/controls"
          }
        },
        "e56e7433dc5541a7b12841e7ea1c7164": {
          "model_module": "@jupyter-widgets/base",
          "model_name": "LayoutModel",
          "state": {
            "_view_name": "LayoutView",
            "grid_template_rows": null,
            "right": null,
            "justify_content": null,
            "_view_module": "@jupyter-widgets/base",
            "overflow": null,
            "_model_module_version": "1.2.0",
            "_view_count": null,
            "flex_flow": null,
            "width": null,
            "min_width": null,
            "border": null,
            "align_items": null,
            "bottom": null,
            "_model_module": "@jupyter-widgets/base",
            "top": null,
            "grid_column": null,
            "overflow_y": null,
            "overflow_x": null,
            "grid_auto_flow": null,
            "grid_area": null,
            "grid_template_columns": null,
            "flex": null,
            "_model_name": "LayoutModel",
            "justify_items": null,
            "grid_row": null,
            "max_height": null,
            "align_content": null,
            "visibility": null,
            "align_self": null,
            "height": null,
            "min_height": null,
            "padding": null,
            "grid_auto_rows": null,
            "grid_gap": null,
            "max_width": null,
            "order": null,
            "_view_module_version": "1.2.0",
            "grid_template_areas": null,
            "object_position": null,
            "object_fit": null,
            "grid_auto_columns": null,
            "margin": null,
            "display": null,
            "left": null
          }
        },
        "c4bcda7e5bcf47abad99e87475464a85": {
          "model_module": "@jupyter-widgets/controls",
          "model_name": "HBoxModel",
          "state": {
            "_view_name": "HBoxView",
            "_dom_classes": [],
            "_model_name": "HBoxModel",
            "_view_module": "@jupyter-widgets/controls",
            "_model_module_version": "1.5.0",
            "_view_count": null,
            "_view_module_version": "1.5.0",
            "box_style": "",
            "layout": "IPY_MODEL_6302c919147f4370af2ffc0d0b5be23a",
            "_model_module": "@jupyter-widgets/controls",
            "children": [
              "IPY_MODEL_af4540d62834421b901eb4ba86fd138c",
              "IPY_MODEL_c2bdf5a20001463e8e3c23577fcbd56a"
            ]
          }
        },
        "6302c919147f4370af2ffc0d0b5be23a": {
          "model_module": "@jupyter-widgets/base",
          "model_name": "LayoutModel",
          "state": {
            "_view_name": "LayoutView",
            "grid_template_rows": null,
            "right": null,
            "justify_content": null,
            "_view_module": "@jupyter-widgets/base",
            "overflow": null,
            "_model_module_version": "1.2.0",
            "_view_count": null,
            "flex_flow": null,
            "width": null,
            "min_width": null,
            "border": null,
            "align_items": null,
            "bottom": null,
            "_model_module": "@jupyter-widgets/base",
            "top": null,
            "grid_column": null,
            "overflow_y": null,
            "overflow_x": null,
            "grid_auto_flow": null,
            "grid_area": null,
            "grid_template_columns": null,
            "flex": null,
            "_model_name": "LayoutModel",
            "justify_items": null,
            "grid_row": null,
            "max_height": null,
            "align_content": null,
            "visibility": null,
            "align_self": null,
            "height": null,
            "min_height": null,
            "padding": null,
            "grid_auto_rows": null,
            "grid_gap": null,
            "max_width": null,
            "order": null,
            "_view_module_version": "1.2.0",
            "grid_template_areas": null,
            "object_position": null,
            "object_fit": null,
            "grid_auto_columns": null,
            "margin": null,
            "display": null,
            "left": null
          }
        },
        "af4540d62834421b901eb4ba86fd138c": {
          "model_module": "@jupyter-widgets/controls",
          "model_name": "IntProgressModel",
          "state": {
            "_view_name": "ProgressView",
            "style": "IPY_MODEL_ce2e15fd7e4349659aaa49aa941f6916",
            "_dom_classes": [],
            "description": "Learning rates: 100%",
            "_model_name": "IntProgressModel",
            "bar_style": "success",
            "max": 3,
            "_view_module": "@jupyter-widgets/controls",
            "_model_module_version": "1.5.0",
            "value": 3,
            "_view_count": null,
            "_view_module_version": "1.5.0",
            "orientation": "horizontal",
            "min": 0,
            "description_tooltip": null,
            "_model_module": "@jupyter-widgets/controls",
            "layout": "IPY_MODEL_81f89ee4caa040cc95b72bec370861fc"
          }
        },
        "c2bdf5a20001463e8e3c23577fcbd56a": {
          "model_module": "@jupyter-widgets/controls",
          "model_name": "HTMLModel",
          "state": {
            "_view_name": "HTMLView",
            "style": "IPY_MODEL_cd25a70b01dc448a9ee495a9bbc27d45",
            "_dom_classes": [],
            "description": "",
            "_model_name": "HTMLModel",
            "placeholder": "​",
            "_view_module": "@jupyter-widgets/controls",
            "_model_module_version": "1.5.0",
            "value": " 3/3 [00:02&lt;00:00,  1.33it/s]",
            "_view_count": null,
            "_view_module_version": "1.5.0",
            "description_tooltip": null,
            "_model_module": "@jupyter-widgets/controls",
            "layout": "IPY_MODEL_ddf396eb18e34bea83638569b64fe91d"
          }
        },
        "ce2e15fd7e4349659aaa49aa941f6916": {
          "model_module": "@jupyter-widgets/controls",
          "model_name": "ProgressStyleModel",
          "state": {
            "_view_name": "StyleView",
            "_model_name": "ProgressStyleModel",
            "description_width": "initial",
            "_view_module": "@jupyter-widgets/base",
            "_model_module_version": "1.5.0",
            "_view_count": null,
            "_view_module_version": "1.2.0",
            "bar_color": null,
            "_model_module": "@jupyter-widgets/controls"
          }
        },
        "81f89ee4caa040cc95b72bec370861fc": {
          "model_module": "@jupyter-widgets/base",
          "model_name": "LayoutModel",
          "state": {
            "_view_name": "LayoutView",
            "grid_template_rows": null,
            "right": null,
            "justify_content": null,
            "_view_module": "@jupyter-widgets/base",
            "overflow": null,
            "_model_module_version": "1.2.0",
            "_view_count": null,
            "flex_flow": null,
            "width": null,
            "min_width": null,
            "border": null,
            "align_items": null,
            "bottom": null,
            "_model_module": "@jupyter-widgets/base",
            "top": null,
            "grid_column": null,
            "overflow_y": null,
            "overflow_x": null,
            "grid_auto_flow": null,
            "grid_area": null,
            "grid_template_columns": null,
            "flex": null,
            "_model_name": "LayoutModel",
            "justify_items": null,
            "grid_row": null,
            "max_height": null,
            "align_content": null,
            "visibility": null,
            "align_self": null,
            "height": null,
            "min_height": null,
            "padding": null,
            "grid_auto_rows": null,
            "grid_gap": null,
            "max_width": null,
            "order": null,
            "_view_module_version": "1.2.0",
            "grid_template_areas": null,
            "object_position": null,
            "object_fit": null,
            "grid_auto_columns": null,
            "margin": null,
            "display": null,
            "left": null
          }
        },
        "cd25a70b01dc448a9ee495a9bbc27d45": {
          "model_module": "@jupyter-widgets/controls",
          "model_name": "DescriptionStyleModel",
          "state": {
            "_view_name": "StyleView",
            "_model_name": "DescriptionStyleModel",
            "description_width": "",
            "_view_module": "@jupyter-widgets/base",
            "_model_module_version": "1.5.0",
            "_view_count": null,
            "_view_module_version": "1.2.0",
            "_model_module": "@jupyter-widgets/controls"
          }
        },
        "ddf396eb18e34bea83638569b64fe91d": {
          "model_module": "@jupyter-widgets/base",
          "model_name": "LayoutModel",
          "state": {
            "_view_name": "LayoutView",
            "grid_template_rows": null,
            "right": null,
            "justify_content": null,
            "_view_module": "@jupyter-widgets/base",
            "overflow": null,
            "_model_module_version": "1.2.0",
            "_view_count": null,
            "flex_flow": null,
            "width": null,
            "min_width": null,
            "border": null,
            "align_items": null,
            "bottom": null,
            "_model_module": "@jupyter-widgets/base",
            "top": null,
            "grid_column": null,
            "overflow_y": null,
            "overflow_x": null,
            "grid_auto_flow": null,
            "grid_area": null,
            "grid_template_columns": null,
            "flex": null,
            "_model_name": "LayoutModel",
            "justify_items": null,
            "grid_row": null,
            "max_height": null,
            "align_content": null,
            "visibility": null,
            "align_self": null,
            "height": null,
            "min_height": null,
            "padding": null,
            "grid_auto_rows": null,
            "grid_gap": null,
            "max_width": null,
            "order": null,
            "_view_module_version": "1.2.0",
            "grid_template_areas": null,
            "object_position": null,
            "object_fit": null,
            "grid_auto_columns": null,
            "margin": null,
            "display": null,
            "left": null
          }
        },
        "bf0805b4941a4ccca3ddc36ae6bc7d27": {
          "model_module": "@jupyter-widgets/controls",
          "model_name": "HBoxModel",
          "state": {
            "_view_name": "HBoxView",
            "_dom_classes": [],
            "_model_name": "HBoxModel",
            "_view_module": "@jupyter-widgets/controls",
            "_model_module_version": "1.5.0",
            "_view_count": null,
            "_view_module_version": "1.5.0",
            "box_style": "",
            "layout": "IPY_MODEL_f6d7531f24d24009ab6705b7b2613f0f",
            "_model_module": "@jupyter-widgets/controls",
            "children": [
              "IPY_MODEL_5bff72009c074b75a67c58a2ce55017f",
              "IPY_MODEL_855b9cb252b94327b0a813e668316094"
            ]
          }
        },
        "f6d7531f24d24009ab6705b7b2613f0f": {
          "model_module": "@jupyter-widgets/base",
          "model_name": "LayoutModel",
          "state": {
            "_view_name": "LayoutView",
            "grid_template_rows": null,
            "right": null,
            "justify_content": null,
            "_view_module": "@jupyter-widgets/base",
            "overflow": null,
            "_model_module_version": "1.2.0",
            "_view_count": null,
            "flex_flow": null,
            "width": null,
            "min_width": null,
            "border": null,
            "align_items": null,
            "bottom": null,
            "_model_module": "@jupyter-widgets/base",
            "top": null,
            "grid_column": null,
            "overflow_y": null,
            "overflow_x": null,
            "grid_auto_flow": null,
            "grid_area": null,
            "grid_template_columns": null,
            "flex": null,
            "_model_name": "LayoutModel",
            "justify_items": null,
            "grid_row": null,
            "max_height": null,
            "align_content": null,
            "visibility": null,
            "align_self": null,
            "height": null,
            "min_height": null,
            "padding": null,
            "grid_auto_rows": null,
            "grid_gap": null,
            "max_width": null,
            "order": null,
            "_view_module_version": "1.2.0",
            "grid_template_areas": null,
            "object_position": null,
            "object_fit": null,
            "grid_auto_columns": null,
            "margin": null,
            "display": null,
            "left": null
          }
        },
        "5bff72009c074b75a67c58a2ce55017f": {
          "model_module": "@jupyter-widgets/controls",
          "model_name": "IntProgressModel",
          "state": {
            "_view_name": "ProgressView",
            "style": "IPY_MODEL_e8b028e7676a420d8ef3e32e08436e97",
            "_dom_classes": [],
            "description": "Learning rates: 100%",
            "_model_name": "IntProgressModel",
            "bar_style": "success",
            "max": 3,
            "_view_module": "@jupyter-widgets/controls",
            "_model_module_version": "1.5.0",
            "value": 3,
            "_view_count": null,
            "_view_module_version": "1.5.0",
            "orientation": "horizontal",
            "min": 0,
            "description_tooltip": null,
            "_model_module": "@jupyter-widgets/controls",
            "layout": "IPY_MODEL_25623901ee0d4909b521fc033f60b431"
          }
        },
        "855b9cb252b94327b0a813e668316094": {
          "model_module": "@jupyter-widgets/controls",
          "model_name": "HTMLModel",
          "state": {
            "_view_name": "HTMLView",
            "style": "IPY_MODEL_b466244f1a6248b98ac2d53645fd490d",
            "_dom_classes": [],
            "description": "",
            "_model_name": "HTMLModel",
            "placeholder": "​",
            "_view_module": "@jupyter-widgets/controls",
            "_model_module_version": "1.5.0",
            "value": " 3/3 [00:01&lt;00:00,  2.47it/s]",
            "_view_count": null,
            "_view_module_version": "1.5.0",
            "description_tooltip": null,
            "_model_module": "@jupyter-widgets/controls",
            "layout": "IPY_MODEL_0e301b5c1932408292680691a090103c"
          }
        },
        "e8b028e7676a420d8ef3e32e08436e97": {
          "model_module": "@jupyter-widgets/controls",
          "model_name": "ProgressStyleModel",
          "state": {
            "_view_name": "StyleView",
            "_model_name": "ProgressStyleModel",
            "description_width": "initial",
            "_view_module": "@jupyter-widgets/base",
            "_model_module_version": "1.5.0",
            "_view_count": null,
            "_view_module_version": "1.2.0",
            "bar_color": null,
            "_model_module": "@jupyter-widgets/controls"
          }
        },
        "25623901ee0d4909b521fc033f60b431": {
          "model_module": "@jupyter-widgets/base",
          "model_name": "LayoutModel",
          "state": {
            "_view_name": "LayoutView",
            "grid_template_rows": null,
            "right": null,
            "justify_content": null,
            "_view_module": "@jupyter-widgets/base",
            "overflow": null,
            "_model_module_version": "1.2.0",
            "_view_count": null,
            "flex_flow": null,
            "width": null,
            "min_width": null,
            "border": null,
            "align_items": null,
            "bottom": null,
            "_model_module": "@jupyter-widgets/base",
            "top": null,
            "grid_column": null,
            "overflow_y": null,
            "overflow_x": null,
            "grid_auto_flow": null,
            "grid_area": null,
            "grid_template_columns": null,
            "flex": null,
            "_model_name": "LayoutModel",
            "justify_items": null,
            "grid_row": null,
            "max_height": null,
            "align_content": null,
            "visibility": null,
            "align_self": null,
            "height": null,
            "min_height": null,
            "padding": null,
            "grid_auto_rows": null,
            "grid_gap": null,
            "max_width": null,
            "order": null,
            "_view_module_version": "1.2.0",
            "grid_template_areas": null,
            "object_position": null,
            "object_fit": null,
            "grid_auto_columns": null,
            "margin": null,
            "display": null,
            "left": null
          }
        },
        "b466244f1a6248b98ac2d53645fd490d": {
          "model_module": "@jupyter-widgets/controls",
          "model_name": "DescriptionStyleModel",
          "state": {
            "_view_name": "StyleView",
            "_model_name": "DescriptionStyleModel",
            "description_width": "",
            "_view_module": "@jupyter-widgets/base",
            "_model_module_version": "1.5.0",
            "_view_count": null,
            "_view_module_version": "1.2.0",
            "_model_module": "@jupyter-widgets/controls"
          }
        },
        "0e301b5c1932408292680691a090103c": {
          "model_module": "@jupyter-widgets/base",
          "model_name": "LayoutModel",
          "state": {
            "_view_name": "LayoutView",
            "grid_template_rows": null,
            "right": null,
            "justify_content": null,
            "_view_module": "@jupyter-widgets/base",
            "overflow": null,
            "_model_module_version": "1.2.0",
            "_view_count": null,
            "flex_flow": null,
            "width": null,
            "min_width": null,
            "border": null,
            "align_items": null,
            "bottom": null,
            "_model_module": "@jupyter-widgets/base",
            "top": null,
            "grid_column": null,
            "overflow_y": null,
            "overflow_x": null,
            "grid_auto_flow": null,
            "grid_area": null,
            "grid_template_columns": null,
            "flex": null,
            "_model_name": "LayoutModel",
            "justify_items": null,
            "grid_row": null,
            "max_height": null,
            "align_content": null,
            "visibility": null,
            "align_self": null,
            "height": null,
            "min_height": null,
            "padding": null,
            "grid_auto_rows": null,
            "grid_gap": null,
            "max_width": null,
            "order": null,
            "_view_module_version": "1.2.0",
            "grid_template_areas": null,
            "object_position": null,
            "object_fit": null,
            "grid_auto_columns": null,
            "margin": null,
            "display": null,
            "left": null
          }
        },
        "dd5126a7b02848ccb1ebd1b481b4a249": {
          "model_module": "@jupyter-widgets/controls",
          "model_name": "HBoxModel",
          "state": {
            "_view_name": "HBoxView",
            "_dom_classes": [],
            "_model_name": "HBoxModel",
            "_view_module": "@jupyter-widgets/controls",
            "_model_module_version": "1.5.0",
            "_view_count": null,
            "_view_module_version": "1.5.0",
            "box_style": "",
            "layout": "IPY_MODEL_db46e184709d45f6aa79d8fe1d527f31",
            "_model_module": "@jupyter-widgets/controls",
            "children": [
              "IPY_MODEL_60a2ecbbbaf6465da98200b6f585044e",
              "IPY_MODEL_9f9c0ba1daf94ae1b779ffe90713c62e"
            ]
          }
        },
        "db46e184709d45f6aa79d8fe1d527f31": {
          "model_module": "@jupyter-widgets/base",
          "model_name": "LayoutModel",
          "state": {
            "_view_name": "LayoutView",
            "grid_template_rows": null,
            "right": null,
            "justify_content": null,
            "_view_module": "@jupyter-widgets/base",
            "overflow": null,
            "_model_module_version": "1.2.0",
            "_view_count": null,
            "flex_flow": null,
            "width": null,
            "min_width": null,
            "border": null,
            "align_items": null,
            "bottom": null,
            "_model_module": "@jupyter-widgets/base",
            "top": null,
            "grid_column": null,
            "overflow_y": null,
            "overflow_x": null,
            "grid_auto_flow": null,
            "grid_area": null,
            "grid_template_columns": null,
            "flex": null,
            "_model_name": "LayoutModel",
            "justify_items": null,
            "grid_row": null,
            "max_height": null,
            "align_content": null,
            "visibility": null,
            "align_self": null,
            "height": null,
            "min_height": null,
            "padding": null,
            "grid_auto_rows": null,
            "grid_gap": null,
            "max_width": null,
            "order": null,
            "_view_module_version": "1.2.0",
            "grid_template_areas": null,
            "object_position": null,
            "object_fit": null,
            "grid_auto_columns": null,
            "margin": null,
            "display": null,
            "left": null
          }
        },
        "60a2ecbbbaf6465da98200b6f585044e": {
          "model_module": "@jupyter-widgets/controls",
          "model_name": "IntProgressModel",
          "state": {
            "_view_name": "ProgressView",
            "style": "IPY_MODEL_588ab3fac95e417bb2a67ffdbdd85905",
            "_dom_classes": [],
            "description": "Learning rates: 100%",
            "_model_name": "IntProgressModel",
            "bar_style": "success",
            "max": 3,
            "_view_module": "@jupyter-widgets/controls",
            "_model_module_version": "1.5.0",
            "value": 3,
            "_view_count": null,
            "_view_module_version": "1.5.0",
            "orientation": "horizontal",
            "min": 0,
            "description_tooltip": null,
            "_model_module": "@jupyter-widgets/controls",
            "layout": "IPY_MODEL_1a5145cfbb664778a16d01d1cd97d01e"
          }
        },
        "9f9c0ba1daf94ae1b779ffe90713c62e": {
          "model_module": "@jupyter-widgets/controls",
          "model_name": "HTMLModel",
          "state": {
            "_view_name": "HTMLView",
            "style": "IPY_MODEL_c5edbce83bfc4c3a8d8cd79b5d682471",
            "_dom_classes": [],
            "description": "",
            "_model_name": "HTMLModel",
            "placeholder": "​",
            "_view_module": "@jupyter-widgets/controls",
            "_model_module_version": "1.5.0",
            "value": " 3/3 [00:01&lt;00:00,  2.89it/s]",
            "_view_count": null,
            "_view_module_version": "1.5.0",
            "description_tooltip": null,
            "_model_module": "@jupyter-widgets/controls",
            "layout": "IPY_MODEL_bdfca8a643a846efaec73ce4a665b278"
          }
        },
        "588ab3fac95e417bb2a67ffdbdd85905": {
          "model_module": "@jupyter-widgets/controls",
          "model_name": "ProgressStyleModel",
          "state": {
            "_view_name": "StyleView",
            "_model_name": "ProgressStyleModel",
            "description_width": "initial",
            "_view_module": "@jupyter-widgets/base",
            "_model_module_version": "1.5.0",
            "_view_count": null,
            "_view_module_version": "1.2.0",
            "bar_color": null,
            "_model_module": "@jupyter-widgets/controls"
          }
        },
        "1a5145cfbb664778a16d01d1cd97d01e": {
          "model_module": "@jupyter-widgets/base",
          "model_name": "LayoutModel",
          "state": {
            "_view_name": "LayoutView",
            "grid_template_rows": null,
            "right": null,
            "justify_content": null,
            "_view_module": "@jupyter-widgets/base",
            "overflow": null,
            "_model_module_version": "1.2.0",
            "_view_count": null,
            "flex_flow": null,
            "width": null,
            "min_width": null,
            "border": null,
            "align_items": null,
            "bottom": null,
            "_model_module": "@jupyter-widgets/base",
            "top": null,
            "grid_column": null,
            "overflow_y": null,
            "overflow_x": null,
            "grid_auto_flow": null,
            "grid_area": null,
            "grid_template_columns": null,
            "flex": null,
            "_model_name": "LayoutModel",
            "justify_items": null,
            "grid_row": null,
            "max_height": null,
            "align_content": null,
            "visibility": null,
            "align_self": null,
            "height": null,
            "min_height": null,
            "padding": null,
            "grid_auto_rows": null,
            "grid_gap": null,
            "max_width": null,
            "order": null,
            "_view_module_version": "1.2.0",
            "grid_template_areas": null,
            "object_position": null,
            "object_fit": null,
            "grid_auto_columns": null,
            "margin": null,
            "display": null,
            "left": null
          }
        },
        "c5edbce83bfc4c3a8d8cd79b5d682471": {
          "model_module": "@jupyter-widgets/controls",
          "model_name": "DescriptionStyleModel",
          "state": {
            "_view_name": "StyleView",
            "_model_name": "DescriptionStyleModel",
            "description_width": "",
            "_view_module": "@jupyter-widgets/base",
            "_model_module_version": "1.5.0",
            "_view_count": null,
            "_view_module_version": "1.2.0",
            "_model_module": "@jupyter-widgets/controls"
          }
        },
        "bdfca8a643a846efaec73ce4a665b278": {
          "model_module": "@jupyter-widgets/base",
          "model_name": "LayoutModel",
          "state": {
            "_view_name": "LayoutView",
            "grid_template_rows": null,
            "right": null,
            "justify_content": null,
            "_view_module": "@jupyter-widgets/base",
            "overflow": null,
            "_model_module_version": "1.2.0",
            "_view_count": null,
            "flex_flow": null,
            "width": null,
            "min_width": null,
            "border": null,
            "align_items": null,
            "bottom": null,
            "_model_module": "@jupyter-widgets/base",
            "top": null,
            "grid_column": null,
            "overflow_y": null,
            "overflow_x": null,
            "grid_auto_flow": null,
            "grid_area": null,
            "grid_template_columns": null,
            "flex": null,
            "_model_name": "LayoutModel",
            "justify_items": null,
            "grid_row": null,
            "max_height": null,
            "align_content": null,
            "visibility": null,
            "align_self": null,
            "height": null,
            "min_height": null,
            "padding": null,
            "grid_auto_rows": null,
            "grid_gap": null,
            "max_width": null,
            "order": null,
            "_view_module_version": "1.2.0",
            "grid_template_areas": null,
            "object_position": null,
            "object_fit": null,
            "grid_auto_columns": null,
            "margin": null,
            "display": null,
            "left": null
          }
        },
        "068eb2da590546c691eb39d267e81a71": {
          "model_module": "@jupyter-widgets/controls",
          "model_name": "HBoxModel",
          "state": {
            "_view_name": "HBoxView",
            "_dom_classes": [],
            "_model_name": "HBoxModel",
            "_view_module": "@jupyter-widgets/controls",
            "_model_module_version": "1.5.0",
            "_view_count": null,
            "_view_module_version": "1.5.0",
            "box_style": "",
            "layout": "IPY_MODEL_f28db17defe4483a9a4ce59c89daa613",
            "_model_module": "@jupyter-widgets/controls",
            "children": [
              "IPY_MODEL_f5a45cb6e76a41f9a3f00b28789dfb89",
              "IPY_MODEL_b41057476d2b498d92fa58ea454bb55c"
            ]
          }
        },
        "f28db17defe4483a9a4ce59c89daa613": {
          "model_module": "@jupyter-widgets/base",
          "model_name": "LayoutModel",
          "state": {
            "_view_name": "LayoutView",
            "grid_template_rows": null,
            "right": null,
            "justify_content": null,
            "_view_module": "@jupyter-widgets/base",
            "overflow": null,
            "_model_module_version": "1.2.0",
            "_view_count": null,
            "flex_flow": null,
            "width": null,
            "min_width": null,
            "border": null,
            "align_items": null,
            "bottom": null,
            "_model_module": "@jupyter-widgets/base",
            "top": null,
            "grid_column": null,
            "overflow_y": null,
            "overflow_x": null,
            "grid_auto_flow": null,
            "grid_area": null,
            "grid_template_columns": null,
            "flex": null,
            "_model_name": "LayoutModel",
            "justify_items": null,
            "grid_row": null,
            "max_height": null,
            "align_content": null,
            "visibility": null,
            "align_self": null,
            "height": null,
            "min_height": null,
            "padding": null,
            "grid_auto_rows": null,
            "grid_gap": null,
            "max_width": null,
            "order": null,
            "_view_module_version": "1.2.0",
            "grid_template_areas": null,
            "object_position": null,
            "object_fit": null,
            "grid_auto_columns": null,
            "margin": null,
            "display": null,
            "left": null
          }
        },
        "f5a45cb6e76a41f9a3f00b28789dfb89": {
          "model_module": "@jupyter-widgets/controls",
          "model_name": "IntProgressModel",
          "state": {
            "_view_name": "ProgressView",
            "style": "IPY_MODEL_3b9cf35ffd7e49eb88a59154b310d1b1",
            "_dom_classes": [],
            "description": "Learning rates: 100%",
            "_model_name": "IntProgressModel",
            "bar_style": "success",
            "max": 3,
            "_view_module": "@jupyter-widgets/controls",
            "_model_module_version": "1.5.0",
            "value": 3,
            "_view_count": null,
            "_view_module_version": "1.5.0",
            "orientation": "horizontal",
            "min": 0,
            "description_tooltip": null,
            "_model_module": "@jupyter-widgets/controls",
            "layout": "IPY_MODEL_8ac7ecafb7974800aec7f2c4d2f31b64"
          }
        },
        "b41057476d2b498d92fa58ea454bb55c": {
          "model_module": "@jupyter-widgets/controls",
          "model_name": "HTMLModel",
          "state": {
            "_view_name": "HTMLView",
            "style": "IPY_MODEL_8ee209e83227404f9e75b0ad8443c59c",
            "_dom_classes": [],
            "description": "",
            "_model_name": "HTMLModel",
            "placeholder": "​",
            "_view_module": "@jupyter-widgets/controls",
            "_model_module_version": "1.5.0",
            "value": " 3/3 [00:00&lt;00:00,  3.48it/s]",
            "_view_count": null,
            "_view_module_version": "1.5.0",
            "description_tooltip": null,
            "_model_module": "@jupyter-widgets/controls",
            "layout": "IPY_MODEL_e5671f342fda45bf8c3a3b0b62342c4c"
          }
        },
        "3b9cf35ffd7e49eb88a59154b310d1b1": {
          "model_module": "@jupyter-widgets/controls",
          "model_name": "ProgressStyleModel",
          "state": {
            "_view_name": "StyleView",
            "_model_name": "ProgressStyleModel",
            "description_width": "initial",
            "_view_module": "@jupyter-widgets/base",
            "_model_module_version": "1.5.0",
            "_view_count": null,
            "_view_module_version": "1.2.0",
            "bar_color": null,
            "_model_module": "@jupyter-widgets/controls"
          }
        },
        "8ac7ecafb7974800aec7f2c4d2f31b64": {
          "model_module": "@jupyter-widgets/base",
          "model_name": "LayoutModel",
          "state": {
            "_view_name": "LayoutView",
            "grid_template_rows": null,
            "right": null,
            "justify_content": null,
            "_view_module": "@jupyter-widgets/base",
            "overflow": null,
            "_model_module_version": "1.2.0",
            "_view_count": null,
            "flex_flow": null,
            "width": null,
            "min_width": null,
            "border": null,
            "align_items": null,
            "bottom": null,
            "_model_module": "@jupyter-widgets/base",
            "top": null,
            "grid_column": null,
            "overflow_y": null,
            "overflow_x": null,
            "grid_auto_flow": null,
            "grid_area": null,
            "grid_template_columns": null,
            "flex": null,
            "_model_name": "LayoutModel",
            "justify_items": null,
            "grid_row": null,
            "max_height": null,
            "align_content": null,
            "visibility": null,
            "align_self": null,
            "height": null,
            "min_height": null,
            "padding": null,
            "grid_auto_rows": null,
            "grid_gap": null,
            "max_width": null,
            "order": null,
            "_view_module_version": "1.2.0",
            "grid_template_areas": null,
            "object_position": null,
            "object_fit": null,
            "grid_auto_columns": null,
            "margin": null,
            "display": null,
            "left": null
          }
        },
        "8ee209e83227404f9e75b0ad8443c59c": {
          "model_module": "@jupyter-widgets/controls",
          "model_name": "DescriptionStyleModel",
          "state": {
            "_view_name": "StyleView",
            "_model_name": "DescriptionStyleModel",
            "description_width": "",
            "_view_module": "@jupyter-widgets/base",
            "_model_module_version": "1.5.0",
            "_view_count": null,
            "_view_module_version": "1.2.0",
            "_model_module": "@jupyter-widgets/controls"
          }
        },
        "e5671f342fda45bf8c3a3b0b62342c4c": {
          "model_module": "@jupyter-widgets/base",
          "model_name": "LayoutModel",
          "state": {
            "_view_name": "LayoutView",
            "grid_template_rows": null,
            "right": null,
            "justify_content": null,
            "_view_module": "@jupyter-widgets/base",
            "overflow": null,
            "_model_module_version": "1.2.0",
            "_view_count": null,
            "flex_flow": null,
            "width": null,
            "min_width": null,
            "border": null,
            "align_items": null,
            "bottom": null,
            "_model_module": "@jupyter-widgets/base",
            "top": null,
            "grid_column": null,
            "overflow_y": null,
            "overflow_x": null,
            "grid_auto_flow": null,
            "grid_area": null,
            "grid_template_columns": null,
            "flex": null,
            "_model_name": "LayoutModel",
            "justify_items": null,
            "grid_row": null,
            "max_height": null,
            "align_content": null,
            "visibility": null,
            "align_self": null,
            "height": null,
            "min_height": null,
            "padding": null,
            "grid_auto_rows": null,
            "grid_gap": null,
            "max_width": null,
            "order": null,
            "_view_module_version": "1.2.0",
            "grid_template_areas": null,
            "object_position": null,
            "object_fit": null,
            "grid_auto_columns": null,
            "margin": null,
            "display": null,
            "left": null
          }
        }
      }
    }
  },
  "cells": [
    {
      "cell_type": "markdown",
      "metadata": {
        "id": "view-in-github",
        "colab_type": "text"
      },
      "source": [
        "<a href=\"https://colab.research.google.com/github/BetterThanButter/learning_to_learn_project/blob/master/DEMO.ipynb\" target=\"_parent\"><img src=\"https://colab.research.google.com/assets/colab-badge.svg\" alt=\"Open In Colab\"/></a>"
      ]
    },
    {
      "cell_type": "code",
      "metadata": {
        "id": "i9tzXu_J0ySj",
        "colab_type": "code",
        "outputId": "82a8ba14-0456-452d-dc44-45c84783f536",
        "colab": {
          "base_uri": "https://localhost:8080/",
          "height": 317
        }
      },
      "source": [
        "import glob\n",
        "import numpy as np\n",
        "import torch\n",
        "import torch.nn as nn\n",
        "import torch.nn.functional as F\n",
        "import torch.autograd as autograd\n",
        "import torch.optim as optim\n",
        "from torch.autograd import Variable\n",
        "import matplotlib.pyplot as plt\n",
        "import random\n",
        "from tqdm import tqdm_notebook as tqdm\n",
        "import multiprocessing\n",
        "import os.path\n",
        "import csv\n",
        "import copy\n",
        "import joblib\n",
        "from torchvision import datasets\n",
        "import torchvision\n",
        "!pip uninstall seaborn -y\n",
        "!pip install seaborn==0.9.0\n",
        "import seaborn as sns; \n",
        "sns.set(color_codes=True)\n",
        "sns.set_style(\"white\")"
      ],
      "execution_count": 0,
      "outputs": [
        {
          "output_type": "stream",
          "text": [
            "Uninstalling seaborn-0.9.0:\n",
            "  Successfully uninstalled seaborn-0.9.0\n",
            "Collecting seaborn==0.9.0\n",
            "  Using cached https://files.pythonhosted.org/packages/a8/76/220ba4420459d9c4c9c9587c6ce607bf56c25b3d3d2de62056efe482dadc/seaborn-0.9.0-py3-none-any.whl\n",
            "Requirement already satisfied: matplotlib>=1.4.3 in /usr/local/lib/python3.6/dist-packages (from seaborn==0.9.0) (3.2.1)\n",
            "Requirement already satisfied: pandas>=0.15.2 in /usr/local/lib/python3.6/dist-packages (from seaborn==0.9.0) (1.0.3)\n",
            "Requirement already satisfied: scipy>=0.14.0 in /usr/local/lib/python3.6/dist-packages (from seaborn==0.9.0) (1.4.1)\n",
            "Requirement already satisfied: numpy>=1.9.3 in /usr/local/lib/python3.6/dist-packages (from seaborn==0.9.0) (1.18.3)\n",
            "Requirement already satisfied: python-dateutil>=2.1 in /usr/local/lib/python3.6/dist-packages (from matplotlib>=1.4.3->seaborn==0.9.0) (2.8.1)\n",
            "Requirement already satisfied: kiwisolver>=1.0.1 in /usr/local/lib/python3.6/dist-packages (from matplotlib>=1.4.3->seaborn==0.9.0) (1.2.0)\n",
            "Requirement already satisfied: cycler>=0.10 in /usr/local/lib/python3.6/dist-packages (from matplotlib>=1.4.3->seaborn==0.9.0) (0.10.0)\n",
            "Requirement already satisfied: pyparsing!=2.0.4,!=2.1.2,!=2.1.6,>=2.0.1 in /usr/local/lib/python3.6/dist-packages (from matplotlib>=1.4.3->seaborn==0.9.0) (2.4.7)\n",
            "Requirement already satisfied: pytz>=2017.2 in /usr/local/lib/python3.6/dist-packages (from pandas>=0.15.2->seaborn==0.9.0) (2018.9)\n",
            "Requirement already satisfied: six>=1.5 in /usr/local/lib/python3.6/dist-packages (from python-dateutil>=2.1->matplotlib>=1.4.3->seaborn==0.9.0) (1.12.0)\n",
            "Installing collected packages: seaborn\n",
            "Successfully installed seaborn-0.9.0\n"
          ],
          "name": "stdout"
        },
        {
          "output_type": "stream",
          "text": [
            "/usr/local/lib/python3.6/dist-packages/statsmodels/tools/_testing.py:19: FutureWarning: pandas.util.testing is deprecated. Use the functions in the public API at pandas.testing instead.\n",
            "  import pandas.util.testing as tm\n"
          ],
          "name": "stderr"
        }
      ]
    },
    {
      "cell_type": "code",
      "metadata": {
        "id": "UioSOUtbIb2M",
        "colab_type": "code",
        "outputId": "cb2463c5-797d-412e-b10c-f3854ba82734",
        "colab": {
          "base_uri": "https://localhost:8080/",
          "height": 33
        }
      },
      "source": [
        "sns.__version__"
      ],
      "execution_count": 0,
      "outputs": [
        {
          "output_type": "execute_result",
          "data": {
            "text/plain": [
              "'0.9.0'"
            ]
          },
          "metadata": {
            "tags": []
          },
          "execution_count": 2
        }
      ]
    },
    {
      "cell_type": "code",
      "metadata": {
        "id": "Y6VBGLVv0ySn",
        "colab_type": "code",
        "colab": {}
      },
      "source": [
        "USE_CUDA = torch.cuda.is_available()\n",
        "\n",
        "def w(v):\n",
        "    if USE_CUDA:\n",
        "        return v.cuda()\n",
        "    return v\n"
      ],
      "execution_count": 0,
      "outputs": []
    },
    {
      "cell_type": "code",
      "metadata": {
        "id": "K5mvh7810ySp",
        "colab_type": "code",
        "colab": {}
      },
      "source": [
        "!mkdir -p _cache\n",
        "cache = joblib.Memory(location='_cache', verbose=0)"
      ],
      "execution_count": 0,
      "outputs": []
    },
    {
      "cell_type": "markdown",
      "metadata": {
        "id": "QAziPAU367hF",
        "colab_type": "text"
      },
      "source": [
        "Основная часть\n"
      ]
    },
    {
      "cell_type": "code",
      "metadata": {
        "id": "asB1r8Cj0ySs",
        "colab_type": "code",
        "colab": {}
      },
      "source": [
        "def detach_var(v):\n",
        "    var = w(Variable(v.data, requires_grad=True))\n",
        "    var.retain_grad()\n",
        "    return var\n",
        "\n",
        "def do_fit(opt_net, meta_opt, target_cls, target_to_opt, unroll, optim_it, n_epochs, out_mul, should_train=True):\n",
        "    if should_train:\n",
        "        opt_net.train()\n",
        "    else:\n",
        "        opt_net.eval()\n",
        "        unroll = 1\n",
        "    \n",
        "    target = target_cls(training=should_train)\n",
        "    optimizee = w(target_to_opt())\n",
        "    n_params = 0\n",
        "\n",
        "    for p in optimizee.parameters():\n",
        "        n_params += int(np.prod(p.size()))\n",
        "\n",
        "    hidden_states = [w(Variable(torch.zeros(n_params, opt_net.hidden_sz))) for _ in range(2)]\n",
        "    cell_states = [w(Variable(torch.zeros(n_params, opt_net.hidden_sz))) for _ in range(2)]\n",
        "\n",
        "    all_losses_ever = []\n",
        "    #Обнуляем градиенты \n",
        "    if should_train:\n",
        "        meta_opt.zero_grad()\n",
        "    all_losses = None\n",
        "\n",
        "    for iteration in range(1, optim_it + 1):\n",
        "        loss = optimizee(target)\n",
        "        if all_losses is None:\n",
        "            all_losses = loss\n",
        "        else:\n",
        "            all_losses += loss\n",
        "        \n",
        "        all_losses_ever.append(loss.data.cpu().numpy())\n",
        "        loss.backward(retain_graph=should_train)\n",
        "\n",
        "        offset = 0\n",
        "        result_params = {}\n",
        "        hidden_states2 = [w(Variable(torch.zeros(n_params, opt_net.hidden_sz))) for _ in range(2)]\n",
        "        cell_states2 = [w(Variable(torch.zeros(n_params, opt_net.hidden_sz))) for _ in range(2)]\n",
        "\n",
        "        for name, p in optimizee.all_named_parameters():\n",
        "            cur_sz = int(np.prod(p.size()))\n",
        "            gradients = detach_var(p.grad.view(cur_sz, 1))\n",
        "            updates, new_hidden, new_cell = opt_net(\n",
        "                gradients,\n",
        "                [h[offset:offset+cur_sz] for h in hidden_states],\n",
        "                [c[offset:offset+cur_sz] for c in cell_states]\n",
        "            )\n",
        "            for i in range(len(new_hidden)):\n",
        "                hidden_states2[i][offset:offset+cur_sz] = new_hidden[i]\n",
        "                cell_states2[i][offset:offset+cur_sz] = new_cell[i]\n",
        "            result_params[name] = p + updates.view(*p.size()) * out_mul\n",
        "            result_params[name].retain_grad()\n",
        "            \n",
        "            offset += cur_sz\n",
        "            \n",
        "        if iteration % unroll == 0:\n",
        "            if should_train:\n",
        "                meta_opt.zero_grad()\n",
        "                all_losses.backward()\n",
        "                meta_opt.step()\n",
        "                \n",
        "            all_losses = None\n",
        "                        \n",
        "            optimizee = w(target_to_opt(**{k: detach_var(v) for k, v in result_params.items()}))\n",
        "            hidden_states = [detach_var(v) for v in hidden_states2]\n",
        "            cell_states = [detach_var(v) for v in cell_states2]\n",
        "            \n",
        "        else:\n",
        "            optimizee = w(target_to_opt(**result_params))\n",
        "            assert len(list(optimizee.all_named_parameters()))\n",
        "            hidden_states = hidden_states2\n",
        "            cell_states = cell_states2\n",
        "            \n",
        "    return all_losses_ever\n",
        "\n",
        "\n",
        "@cache.cache\n",
        "def fit_optimizer(target_cls, target_to_opt, preproc=False, unroll=20, optim_it=100, n_epochs=20, n_tests=100, lr=0.001, out_mul=1.0):\n",
        "    opt_net = w(Optimizer(preproc=preproc))\n",
        "    #В качестве оптимизатор для оптимизатора используем Адам\n",
        "    meta_opt = optim.Adam(opt_net.parameters(), lr=lr)\n",
        "    \n",
        "    best_net = None\n",
        "    best_loss = 100000000000000000\n",
        "    \n",
        "\n",
        "    for _ in tqdm(range(n_epochs), 'epochs'):\n",
        "        #Train optimizer\n",
        "        for _ in tqdm(range(20), 'iterations'):\n",
        "            do_fit(opt_net, meta_opt, target_cls, target_to_opt, unroll, optim_it, n_epochs, out_mul, should_train=True)\n",
        "        #Evaluate optimizer\n",
        "        loss = (np.mean([\n",
        "            np.sum(do_fit(opt_net, meta_opt, target_cls, target_to_opt, unroll, optim_it, n_epochs, out_mul, should_train=False))\n",
        "            for _ in tqdm(range(n_tests), 'tests')\n",
        "        ]))\n",
        "        #Обновялем лучшую ошибку\n",
        "        if loss < best_loss:\n",
        "            print(\"Best score update:\", best_loss, \"previuous:\", loss)\n",
        "            best_loss = loss\n",
        "            best_net = copy.deepcopy(opt_net.state_dict())\n",
        "            \n",
        "    return best_loss, best_net\n",
        "  \n"
      ],
      "execution_count": 0,
      "outputs": []
    },
    {
      "cell_type": "markdown",
      "metadata": {
        "id": "HiLGr26Vp4nD",
        "colab_type": "text"
      },
      "source": [
        "# Эксперименты\n",
        "1. Эксперименты с квадратичными функциями"
      ]
    },
    {
      "cell_type": "code",
      "metadata": {
        "id": "g671KLCAp2qR",
        "colab_type": "code",
        "colab": {}
      },
      "source": [
        "class QuadraticLoss:\n",
        "    def __init__(self, **kwargs):\n",
        "        self.W = w(Variable(torch.randn(10, 10)))\n",
        "        self.y = w(Variable(torch.randn(10)))\n",
        "        \n",
        "    def get_loss(self, theta):\n",
        "        return torch.sum((self.W.matmul(theta) - self.y)**2)\n",
        "    \n",
        "class QuadOptimizee(nn.Module):\n",
        "    def __init__(self, theta=None):\n",
        "        super().__init__()\n",
        "        # Note: assuming the same optimization for theta as for\n",
        "        # the function to find out itself.\n",
        "        if theta is None:\n",
        "            self.theta = nn.Parameter(torch.zeros(10))\n",
        "        else:\n",
        "            self.theta = theta\n",
        "        \n",
        "    def forward(self, target):\n",
        "        return target.get_loss(self.theta)\n",
        "    \n",
        "    def all_named_parameters(self):\n",
        "        return [('theta', self.theta)]"
      ],
      "execution_count": 0,
      "outputs": []
    },
    {
      "cell_type": "markdown",
      "metadata": {
        "id": "plIdk19sqCW9",
        "colab_type": "text"
      },
      "source": [
        "Далее мы строим сам оптимизатора на основе LSTM архитектуры."
      ]
    },
    {
      "cell_type": "code",
      "metadata": {
        "id": "wiHp6f1n--tP",
        "colab_type": "code",
        "outputId": "aea5eeed-bd65-4c24-fdda-684b7d8513b7",
        "colab": {
          "base_uri": "https://localhost:8080/",
          "height": 482
        }
      },
      "source": [
        "from IPython.display import Image\n",
        "Image('computational-graph-1.png')"
      ],
      "execution_count": 0,
      "outputs": [
        {
          "output_type": "execute_result",
          "data": {
            "image/png": "[encoded data removed]",
            "text/plain": [
              "<IPython.core.display.Image object>"
            ]
          },
          "metadata": {
            "tags": []
          },
          "execution_count": 28
        }
      ]
    },
    {
      "cell_type": "code",
      "metadata": {
        "id": "CVGZJfRx0ySv",
        "colab_type": "code",
        "colab": {}
      },
      "source": [
        "\n",
        "        \n",
        "class Optimizer(nn.Module):\n",
        "    def __init__(self, preproc=False, hidden_sz=20, preproc_factor=10.0):\n",
        "        super().__init__()\n",
        "        self.hidden_sz = hidden_sz\n",
        "        if preproc:\n",
        "            self.recurs = nn.LSTMCell(2, hidden_sz)\n",
        "        else:\n",
        "            self.recurs = nn.LSTMCell(1, hidden_sz)\n",
        "        self.recurs2 = nn.LSTMCell(hidden_sz, hidden_sz)\n",
        "        self.output = nn.Linear(hidden_sz, 1)\n",
        "        self.preproc = preproc\n",
        "        self.preproc_factor = preproc_factor\n",
        "        self.preproc_threshold = np.exp(-preproc_factor)\n",
        "        \n",
        "    def forward(self, inp, hidden, cell):\n",
        "        if self.preproc:\n",
        "            # TODO Препроцессинг\n",
        "            inp = inp.data\n",
        "            inp2 = w(torch.zeros(inp.size()[0], 2))\n",
        "            keep_grads = (torch.abs(inp) >= self.preproc_threshold).squeeze()\n",
        "            inp2[:, 0][keep_grads] = (torch.log(torch.abs(inp[keep_grads]) + 1e-8) / self.preproc_factor).squeeze()\n",
        "            inp2[:, 1][keep_grads] = torch.sign(inp[keep_grads]).squeeze()\n",
        "            inp2[:, 0][~keep_grads] = -1\n",
        "            inp2[:, 1][~keep_grads] = (float(np.exp(self.preproc_factor)) * inp[~keep_grads]).squeeze()\n",
        "            inp = w(Variable(inp2))\n",
        "        hidden0, cell0 = self.recurs(inp, (hidden[0], cell[0]))\n",
        "        hidden1, cell1 = self.recurs2(hidden0, (hidden[1], cell[1]))\n",
        "        return self.output(hidden1), (hidden0, hidden1), (cell0, cell1)\n",
        "    "
      ],
      "execution_count": 0,
      "outputs": []
    },
    {
      "cell_type": "code",
      "metadata": {
        "id": "EJL0W2ul0ySy",
        "colab_type": "code",
        "outputId": "b6051bb5-2fa4-46fc-9be5-c171f0489763",
        "colab": {
          "base_uri": "https://localhost:8080/",
          "height": 232,
          "referenced_widgets": [
            "c04397b939074fbfb6197ac6ba427af1",
            "a130560463a84b52b65cd05bbd172dab",
            "d43f53a14a9a4a949f33ca1ecaaf4028",
            "d3aab95bca72481ea64e32b6c9e1e910",
            "6553bcc44cb14b1b9ba6cd453ccd13f0",
            "22d0c3af5b974589a14910bc5729aa6b",
            "b26eddd52f324acdb25649ddb378469c",
            "e56e7433dc5541a7b12841e7ea1c7164"
          ]
        }
      },
      "source": [
        "for lr in tqdm([1.0, 0.3, 0.1], 'all'):\n",
        "    print('Trying lr:', lr)\n",
        "    print(fit_optimizer(QuadraticLoss, QuadOptimizee, lr=lr)[0])\n",
        "    \n",
        "# loss, quad_optimizer = fit_optimizer(QuadraticLoss, QuadOptimizee, lr=0.003, n_epochs=100)\n",
        "# print(loss)"
      ],
      "execution_count": 0,
      "outputs": [
        {
          "output_type": "stream",
          "text": [
            "/usr/local/lib/python3.6/dist-packages/ipykernel_launcher.py:1: TqdmDeprecationWarning: This function will be removed in tqdm==5.0.0\n",
            "Please use `tqdm.notebook.tqdm` instead of `tqdm.tqdm_notebook`\n",
            "  \"\"\"Entry point for launching an IPython kernel.\n"
          ],
          "name": "stderr"
        },
        {
          "output_type": "display_data",
          "data": {
            "application/vnd.jupyter.widget-view+json": {
              "model_id": "c04397b939074fbfb6197ac6ba427af1",
              "version_minor": 0,
              "version_major": 2
            },
            "text/plain": [
              "HBox(children=(IntProgress(value=0, description='all', max=3, style=ProgressStyle(description_width='initial')…"
            ]
          },
          "metadata": {
            "tags": []
          }
        },
        {
          "output_type": "stream",
          "text": [
            "Trying lr: 1.0\n",
            "30737.21\n",
            "Trying lr: 0.3\n",
            "4154.6934\n",
            "Trying lr: 0.1\n",
            "76.006516\n",
            "\n",
            "53.694115\n"
          ],
          "name": "stdout"
        }
      ]
    },
    {
      "cell_type": "markdown",
      "metadata": {
        "id": "WIObtrc17fB4",
        "colab_type": "text"
      },
      "source": [
        "Решение задачи с помощью классических алгоритмов оптимизации ['ADAM', 'RMSprop', 'SGD', 'NAG']"
      ]
    },
    {
      "cell_type": "code",
      "metadata": {
        "id": "O3R6sg9B0yS0",
        "colab_type": "code",
        "colab": {}
      },
      "source": [
        "@cache.cache\n",
        "def fit_normal(target_cls, target_to_opt, opt_class, n_tests=100, n_epochs=100, **kwargs):\n",
        "    results = []\n",
        "    for i in tqdm(range(n_tests), 'tests'):\n",
        "        target = target_cls(training=False)\n",
        "        optimizee = w(target_to_opt())\n",
        "        optimizer = opt_class(optimizee.parameters(), **kwargs)\n",
        "        total_loss = []\n",
        "        for _ in range(n_epochs):\n",
        "            loss = optimizee(target)\n",
        "            \n",
        "            total_loss.append(loss.data.cpu().numpy())\n",
        "            \n",
        "            optimizer.zero_grad()\n",
        "            loss.backward()\n",
        "            optimizer.step()\n",
        "        results.append(total_loss)\n",
        "    return results\n",
        "\n",
        "def find_best_lr_normal(target_cls, target_to_opt, opt_class, **extra_kwargs):\n",
        "    best_loss = 1000000000000000.0\n",
        "    best_lr = 0.0\n",
        "    for lr in tqdm([1.0, 0.3, 0.1], 'Learning rates'):\n",
        "        try:\n",
        "            loss = best_loss + 1.0\n",
        "            loss = np.mean([np.sum(s) for s in fit_normal(target_cls, target_to_opt, opt_class, lr=lr, **extra_kwargs)])\n",
        "        except RuntimeError:\n",
        "            pass\n",
        "        if loss < best_loss:\n",
        "            best_loss = loss\n",
        "            best_lr = lr\n",
        "    return best_loss, best_lr"
      ],
      "execution_count": 0,
      "outputs": []
    },
    {
      "cell_type": "code",
      "metadata": {
        "id": "bon6K0Dl0yS3",
        "colab_type": "code",
        "outputId": "7075c52a-677a-422e-96c1-0a1bc2266390",
        "colab": {
          "base_uri": "https://localhost:8080/",
          "height": 312,
          "referenced_widgets": [
            "c4bcda7e5bcf47abad99e87475464a85",
            "6302c919147f4370af2ffc0d0b5be23a",
            "af4540d62834421b901eb4ba86fd138c",
            "c2bdf5a20001463e8e3c23577fcbd56a",
            "ce2e15fd7e4349659aaa49aa941f6916",
            "81f89ee4caa040cc95b72bec370861fc",
            "cd25a70b01dc448a9ee495a9bbc27d45",
            "ddf396eb18e34bea83638569b64fe91d",
            "bf0805b4941a4ccca3ddc36ae6bc7d27",
            "f6d7531f24d24009ab6705b7b2613f0f",
            "5bff72009c074b75a67c58a2ce55017f",
            "855b9cb252b94327b0a813e668316094",
            "e8b028e7676a420d8ef3e32e08436e97",
            "25623901ee0d4909b521fc033f60b431",
            "b466244f1a6248b98ac2d53645fd490d",
            "0e301b5c1932408292680691a090103c",
            "dd5126a7b02848ccb1ebd1b481b4a249",
            "db46e184709d45f6aa79d8fe1d527f31",
            "60a2ecbbbaf6465da98200b6f585044e",
            "9f9c0ba1daf94ae1b779ffe90713c62e",
            "588ab3fac95e417bb2a67ffdbdd85905",
            "1a5145cfbb664778a16d01d1cd97d01e",
            "c5edbce83bfc4c3a8d8cd79b5d682471",
            "bdfca8a643a846efaec73ce4a665b278",
            "068eb2da590546c691eb39d267e81a71",
            "f28db17defe4483a9a4ce59c89daa613",
            "f5a45cb6e76a41f9a3f00b28789dfb89",
            "b41057476d2b498d92fa58ea454bb55c",
            "3b9cf35ffd7e49eb88a59154b310d1b1",
            "8ac7ecafb7974800aec7f2c4d2f31b64",
            "8ee209e83227404f9e75b0ad8443c59c",
            "e5671f342fda45bf8c3a3b0b62342c4c"
          ]
        }
      },
      "source": [
        "NORMAL_OPTS = [(optim.Adam, {}), (optim.RMSprop, {}), (optim.SGD, {}), (optim.SGD, {'nesterov': True, 'momentum': 0.9})]\n",
        "OPT_NAMES = ['ADAM', 'RMSprop', 'SGD', 'NAG']\n",
        "\n",
        "# NB: Парметры для метода Нестерова взяты отсюда: https://github.com/torch/optim/blob/master/nag.lua\n",
        "# Все параметры, кроме lr взять дефолтными из PyTorch\n",
        "for opt, kwargs in NORMAL_OPTS:\n",
        "    print(find_best_lr_normal(QuadraticLoss, QuadOptimizee, opt, **kwargs))"
      ],
      "execution_count": 0,
      "outputs": [
        {
          "output_type": "stream",
          "text": [
            "/usr/local/lib/python3.6/dist-packages/ipykernel_launcher.py:23: TqdmDeprecationWarning: This function will be removed in tqdm==5.0.0\n",
            "Please use `tqdm.notebook.tqdm` instead of `tqdm.tqdm_notebook`\n"
          ],
          "name": "stderr"
        },
        {
          "output_type": "display_data",
          "data": {
            "application/vnd.jupyter.widget-view+json": {
              "model_id": "c4bcda7e5bcf47abad99e87475464a85",
              "version_minor": 0,
              "version_major": 2
            },
            "text/plain": [
              "HBox(children=(IntProgress(value=0, description='Learning rates', max=3, style=ProgressStyle(description_width…"
            ]
          },
          "metadata": {
            "tags": []
          }
        },
        {
          "output_type": "stream",
          "text": [
            "\n",
            "(113.62577, 0.1)\n"
          ],
          "name": "stdout"
        },
        {
          "output_type": "display_data",
          "data": {
            "application/vnd.jupyter.widget-view+json": {
              "model_id": "bf0805b4941a4ccca3ddc36ae6bc7d27",
              "version_minor": 0,
              "version_major": 2
            },
            "text/plain": [
              "HBox(children=(IntProgress(value=0, description='Learning rates', max=3, style=ProgressStyle(description_width…"
            ]
          },
          "metadata": {
            "tags": []
          }
        },
        {
          "output_type": "stream",
          "text": [
            "\n",
            "(309.75015, 0.1)\n"
          ],
          "name": "stdout"
        },
        {
          "output_type": "display_data",
          "data": {
            "application/vnd.jupyter.widget-view+json": {
              "model_id": "dd5126a7b02848ccb1ebd1b481b4a249",
              "version_minor": 0,
              "version_major": 2
            },
            "text/plain": [
              "HBox(children=(IntProgress(value=0, description='Learning rates', max=3, style=ProgressStyle(description_width…"
            ]
          },
          "metadata": {
            "tags": []
          }
        },
        {
          "output_type": "stream",
          "text": [
            "\n",
            "(1000000000000000.0, 0.0)\n"
          ],
          "name": "stdout"
        },
        {
          "output_type": "display_data",
          "data": {
            "application/vnd.jupyter.widget-view+json": {
              "model_id": "068eb2da590546c691eb39d267e81a71",
              "version_minor": 0,
              "version_major": 2
            },
            "text/plain": [
              "HBox(children=(IntProgress(value=0, description='Learning rates', max=3, style=ProgressStyle(description_width…"
            ]
          },
          "metadata": {
            "tags": []
          }
        },
        {
          "output_type": "stream",
          "text": [
            "\n",
            "(1000000000000000.0, 0.0)\n"
          ],
          "name": "stdout"
        }
      ]
    },
    {
      "cell_type": "code",
      "metadata": {
        "id": "R-OTf7Wr0yS5",
        "colab_type": "code",
        "colab": {}
      },
      "source": [
        "QUAD_LRS = [0.1, 0.03, 0.01, 0.01]\n",
        "fit_data = np.zeros((100, 100, len(OPT_NAMES) + 1))\n",
        "for i, ((opt, extra_kwargs), lr) in enumerate(zip(NORMAL_OPTS, QUAD_LRS)):\n",
        "    np.random.seed(0)\n",
        "    fit_data[:, :, i] = np.array(fit_normal(QuadraticLoss, QuadOptimizee, opt, lr=lr, **extra_kwargs))\n",
        "\n",
        "opt = w(Optimizer())\n",
        "opt.load_state_dict(quad_optimizer)\n",
        "np.random.seed(0)\n",
        "fit_data[:, :, len(OPT_NAMES)] = np.array([do_fit(opt, None, QuadraticLoss, QuadOptimizee, 1, 100, 100, out_mul=1.0, should_train=False) for _ in range(100)])"
      ],
      "execution_count": 0,
      "outputs": []
    },
    {
      "cell_type": "code",
      "metadata": {
        "id": "pQ6NjKyP0yS7",
        "colab_type": "code",
        "outputId": "a18d21e2-1c7f-4bbd-e3a5-31981f09d1d9",
        "colab": {
          "base_uri": "https://localhost:8080/",
          "height": 680
        }
      },
      "source": [
        "f, ax = plt.subplots(figsize=(20, 10))\n",
        "ax = sns.tsplot(data=fit_data[:, :, :], condition=OPT_NAMES+['LSTM'], linestyle='--', color=['r', 'b', 'g', 'k', 'y'], ax=ax)\n",
        "ax.lines[-1].set_linestyle('-')\n",
        "ax.legend()\n",
        "plt.yscale('log')\n",
        "plt.xlabel('steps')\n",
        "plt.ylabel('loss')\n",
        "plt.title('Quadratic functions')\n",
        "plt.show()"
      ],
      "execution_count": 0,
      "outputs": [
        {
          "output_type": "stream",
          "text": [
            "/usr/local/lib/python3.6/dist-packages/seaborn/timeseries.py:183: UserWarning: The `tsplot` function is deprecated and will be removed in a future release. Please update your code to use the new `lineplot` function.\n",
            "  warnings.warn(msg, UserWarning)\n"
          ],
          "name": "stderr"
        },
        {
          "output_type": "display_data",
          "data": {
            "image/png": "[encoded data removed]",
            "text/plain": [
              "<Figure size 1440x720 with 1 Axes>"
            ]
          },
          "metadata": {
            "tags": [],
            "needs_background": "light"
          }
        }
      ]
    },
    {
      "cell_type": "code",
      "metadata": {
        "id": "SxJtThSS1PaT",
        "colab_type": "code",
        "colab": {}
      },
      "source": [
        ""
      ],
      "execution_count": 0,
      "outputs": []
    }
  ]
}